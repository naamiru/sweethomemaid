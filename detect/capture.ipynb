{
 "cells": [
  {
   "cell_type": "code",
   "execution_count": 1,
   "metadata": {},
   "outputs": [],
   "source": [
    "from Quartz import (\n",
    "    CGWindowListCopyWindowInfo, kCGNullWindowID, kCGWindowListOptionAll\n",
    ")\n"
   ]
  },
  {
   "cell_type": "code",
   "execution_count": 46,
   "metadata": {},
   "outputs": [],
   "source": [
    "windows = CGWindowListCopyWindowInfo(\n",
    "    kCGWindowListOptionAll,\n",
    "    kCGNullWindowID\n",
    ")"
   ]
  },
  {
   "cell_type": "code",
   "execution_count": 47,
   "metadata": {},
   "outputs": [],
   "source": [
    "chromes = [\n",
    "    w\n",
    "    for w in windows\n",
    "    if w.get(\"kCGWindowOwnerName\", \"\") == \"Google Chrome\"\n",
    "    and \"スイートホームメイドR\" in w.get(\"kCGWindowName\", \"\")\n",
    "]"
   ]
  },
  {
   "cell_type": "code",
   "execution_count": 48,
   "metadata": {},
   "outputs": [
    {
     "data": {
      "text/plain": [
       "[{\n",
       "     kCGWindowAlpha = 1;\n",
       "     kCGWindowBounds =     {\n",
       "         Height = 919;\n",
       "         Width = 1198;\n",
       "         X = 81;\n",
       "         Y = 37;\n",
       "     };\n",
       "     kCGWindowIsOnscreen = 1;\n",
       "     kCGWindowLayer = 0;\n",
       "     kCGWindowMemoryUsage = 2160;\n",
       "     kCGWindowName = \"\\U30b9\\U30a4\\U30fc\\U30c8\\U30db\\U30fc\\U30e0\\U30e1\\U30a4\\U30c9R - FANZA GAMES\";\n",
       "     kCGWindowNumber = 126218;\n",
       "     kCGWindowOwnerName = \"Google Chrome\";\n",
       "     kCGWindowOwnerPID = 24711;\n",
       "     kCGWindowSharingState = 1;\n",
       "     kCGWindowStoreType = 1;\n",
       " }]"
      ]
     },
     "execution_count": 48,
     "metadata": {},
     "output_type": "execute_result"
    }
   ],
   "source": [
    "chromes"
   ]
  }
 ],
 "metadata": {
  "kernelspec": {
   "display_name": ".venv",
   "language": "python",
   "name": "python3"
  },
  "language_info": {
   "codemirror_mode": {
    "name": "ipython",
    "version": 3
   },
   "file_extension": ".py",
   "mimetype": "text/x-python",
   "name": "python",
   "nbconvert_exporter": "python",
   "pygments_lexer": "ipython3",
   "version": "3.11.6"
  }
 },
 "nbformat": 4,
 "nbformat_minor": 2
}
